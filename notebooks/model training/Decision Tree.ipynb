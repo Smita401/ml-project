{
 "cells": [
  {
   "cell_type": "markdown",
   "metadata": {},
   "source": [
    "# Decision Tree"
   ]
  },
  {
   "cell_type": "code",
   "execution_count": 1,
   "metadata": {},
   "outputs": [],
   "source": [
    "import pandas as pd\n",
    "import numpy as np\n",
    "import seaborn as sns\n",
    "\n",
    "from sklearn.preprocessing import MinMaxScaler,StandardScaler,OneHotEncoder\n",
    "import matplotlib.pyplot as plt\n",
    "from sklearn.metrics import classification_report\n",
    "from sklearn.metrics import confusion_matrix\n",
    "from sklearn.model_selection import train_test_split\n",
    "\n",
    "from sklearn.tree import DecisionTreeClassifier"
   ]
  },
  {
   "cell_type": "code",
   "execution_count": 2,
   "metadata": {},
   "outputs": [],
   "source": [
    "# load the df\n",
    "df = pd.read_csv('../../data/df_dummies.csv')"
   ]
  },
  {
   "cell_type": "code",
   "execution_count": 3,
   "metadata": {},
   "outputs": [],
   "source": [
    "# train_test_split\n",
    "features = df.drop(columns=['heart_attack_risk','income','smoking'])\n",
    "target = df['heart_attack_risk']\n",
    "\n",
    "X_train, X_test, y_train, y_test = train_test_split(features, target, test_size=0.20, random_state=0)"
   ]
  },
  {
   "cell_type": "code",
   "execution_count": 4,
   "metadata": {},
   "outputs": [],
   "source": [
    "# normalization\n",
    "normalizer = MinMaxScaler()\n",
    "normalizer.fit(X_train)\n",
    "X_train_norm = normalizer.transform(X_train)\n",
    "X_test_norm = normalizer.transform(X_test)\n",
    "\n",
    "X_train_norm = pd.DataFrame(X_train_norm,columns=X_train.columns)\n",
    "X_test_norm = pd.DataFrame(X_test_norm,columns=X_test.columns)"
   ]
  },
  {
   "cell_type": "markdown",
   "metadata": {},
   "source": [
    "## smote"
   ]
  },
  {
   "cell_type": "code",
   "execution_count": 5,
   "metadata": {},
   "outputs": [],
   "source": [
    "from imblearn.over_sampling import SMOTE"
   ]
  },
  {
   "cell_type": "code",
   "execution_count": 6,
   "metadata": {},
   "outputs": [],
   "source": [
    "sm = SMOTE(random_state=123,sampling_strategy=1.0)\n",
    "X_train_SMOTE, y_train_SMOTE = sm.fit_resample(X_train_norm,y_train)"
   ]
  },
  {
   "cell_type": "code",
   "execution_count": 7,
   "metadata": {},
   "outputs": [
    {
     "data": {
      "text/plain": [
       "heart_attack_risk\n",
       "0    4510\n",
       "1    4510\n",
       "Name: count, dtype: int64"
      ]
     },
     "execution_count": 7,
     "metadata": {},
     "output_type": "execute_result"
    }
   ],
   "source": [
    "y_train_SMOTE.value_counts()"
   ]
  },
  {
   "cell_type": "code",
   "execution_count": 8,
   "metadata": {},
   "outputs": [],
   "source": [
    "# decision tree\n",
    "tree = DecisionTreeClassifier(max_depth=10,random_state=10)\n",
    "\n",
    "tree.fit(X_train_SMOTE, y_train_SMOTE)\n",
    "\n",
    "pred_tree = tree.predict(X_test_norm)"
   ]
  },
  {
   "cell_type": "code",
   "execution_count": 9,
   "metadata": {},
   "outputs": [
    {
     "name": "stdout",
     "output_type": "stream",
     "text": [
      "              precision    recall  f1-score   support\n",
      "\n",
      "           0       0.64      0.89      0.75      1114\n",
      "           1       0.40      0.13      0.19       639\n",
      "\n",
      "    accuracy                           0.61      1753\n",
      "   macro avg       0.52      0.51      0.47      1753\n",
      "weighted avg       0.55      0.61      0.54      1753\n",
      "\n"
     ]
    }
   ],
   "source": [
    "print(classification_report(y_test,pred_tree))"
   ]
  },
  {
   "cell_type": "code",
   "execution_count": 10,
   "metadata": {},
   "outputs": [
    {
     "data": {
      "text/plain": [
       "array([[989, 125],\n",
       "       [561,  78]], dtype=int64)"
      ]
     },
     "execution_count": 10,
     "metadata": {},
     "output_type": "execute_result"
    }
   ],
   "source": [
    "confusion_matrix(y_test, pred_tree)"
   ]
  },
  {
   "cell_type": "code",
   "execution_count": 11,
   "metadata": {},
   "outputs": [],
   "source": [
    "import plotly.express as px"
   ]
  },
  {
   "cell_type": "code",
   "execution_count": 12,
   "metadata": {},
   "outputs": [
    {
     "data": {
      "application/vnd.plotly.v1+json": {
       "config": {
        "plotlyServerURL": "https://plot.ly"
       },
       "data": [
        {
         "coloraxis": "coloraxis",
         "hovertemplate": "x: %{x}<br>y: %{y}<br>color: %{z}<extra></extra>",
         "name": "0",
         "texttemplate": "%{z}",
         "type": "heatmap",
         "x": [
          "No - True",
          "Yes - True"
         ],
         "xaxis": "x",
         "y": [
          "No - Pred",
          "Yes - Pred"
         ],
         "yaxis": "y",
         "z": [
          [
           989,
           125
          ],
          [
           561,
           78
          ]
         ]
        }
       ],
       "layout": {
        "coloraxis": {
         "cmid": 0,
         "colorscale": [
          [
           0,
           "rgb(103,0,31)"
          ],
          [
           0.1,
           "rgb(178,24,43)"
          ],
          [
           0.2,
           "rgb(214,96,77)"
          ],
          [
           0.3,
           "rgb(244,165,130)"
          ],
          [
           0.4,
           "rgb(253,219,199)"
          ],
          [
           0.5,
           "rgb(247,247,247)"
          ],
          [
           0.6,
           "rgb(209,229,240)"
          ],
          [
           0.7,
           "rgb(146,197,222)"
          ],
          [
           0.8,
           "rgb(67,147,195)"
          ],
          [
           0.9,
           "rgb(33,102,172)"
          ],
          [
           1,
           "rgb(5,48,97)"
          ]
         ]
        },
        "margin": {
         "t": 60
        },
        "template": {
         "data": {
          "bar": [
           {
            "error_x": {
             "color": "#2a3f5f"
            },
            "error_y": {
             "color": "#2a3f5f"
            },
            "marker": {
             "line": {
              "color": "#E5ECF6",
              "width": 0.5
             },
             "pattern": {
              "fillmode": "overlay",
              "size": 10,
              "solidity": 0.2
             }
            },
            "type": "bar"
           }
          ],
          "barpolar": [
           {
            "marker": {
             "line": {
              "color": "#E5ECF6",
              "width": 0.5
             },
             "pattern": {
              "fillmode": "overlay",
              "size": 10,
              "solidity": 0.2
             }
            },
            "type": "barpolar"
           }
          ],
          "carpet": [
           {
            "aaxis": {
             "endlinecolor": "#2a3f5f",
             "gridcolor": "white",
             "linecolor": "white",
             "minorgridcolor": "white",
             "startlinecolor": "#2a3f5f"
            },
            "baxis": {
             "endlinecolor": "#2a3f5f",
             "gridcolor": "white",
             "linecolor": "white",
             "minorgridcolor": "white",
             "startlinecolor": "#2a3f5f"
            },
            "type": "carpet"
           }
          ],
          "choropleth": [
           {
            "colorbar": {
             "outlinewidth": 0,
             "ticks": ""
            },
            "type": "choropleth"
           }
          ],
          "contour": [
           {
            "colorbar": {
             "outlinewidth": 0,
             "ticks": ""
            },
            "colorscale": [
             [
              0,
              "#0d0887"
             ],
             [
              0.1111111111111111,
              "#46039f"
             ],
             [
              0.2222222222222222,
              "#7201a8"
             ],
             [
              0.3333333333333333,
              "#9c179e"
             ],
             [
              0.4444444444444444,
              "#bd3786"
             ],
             [
              0.5555555555555556,
              "#d8576b"
             ],
             [
              0.6666666666666666,
              "#ed7953"
             ],
             [
              0.7777777777777778,
              "#fb9f3a"
             ],
             [
              0.8888888888888888,
              "#fdca26"
             ],
             [
              1,
              "#f0f921"
             ]
            ],
            "type": "contour"
           }
          ],
          "contourcarpet": [
           {
            "colorbar": {
             "outlinewidth": 0,
             "ticks": ""
            },
            "type": "contourcarpet"
           }
          ],
          "heatmap": [
           {
            "colorbar": {
             "outlinewidth": 0,
             "ticks": ""
            },
            "colorscale": [
             [
              0,
              "#0d0887"
             ],
             [
              0.1111111111111111,
              "#46039f"
             ],
             [
              0.2222222222222222,
              "#7201a8"
             ],
             [
              0.3333333333333333,
              "#9c179e"
             ],
             [
              0.4444444444444444,
              "#bd3786"
             ],
             [
              0.5555555555555556,
              "#d8576b"
             ],
             [
              0.6666666666666666,
              "#ed7953"
             ],
             [
              0.7777777777777778,
              "#fb9f3a"
             ],
             [
              0.8888888888888888,
              "#fdca26"
             ],
             [
              1,
              "#f0f921"
             ]
            ],
            "type": "heatmap"
           }
          ],
          "heatmapgl": [
           {
            "colorbar": {
             "outlinewidth": 0,
             "ticks": ""
            },
            "colorscale": [
             [
              0,
              "#0d0887"
             ],
             [
              0.1111111111111111,
              "#46039f"
             ],
             [
              0.2222222222222222,
              "#7201a8"
             ],
             [
              0.3333333333333333,
              "#9c179e"
             ],
             [
              0.4444444444444444,
              "#bd3786"
             ],
             [
              0.5555555555555556,
              "#d8576b"
             ],
             [
              0.6666666666666666,
              "#ed7953"
             ],
             [
              0.7777777777777778,
              "#fb9f3a"
             ],
             [
              0.8888888888888888,
              "#fdca26"
             ],
             [
              1,
              "#f0f921"
             ]
            ],
            "type": "heatmapgl"
           }
          ],
          "histogram": [
           {
            "marker": {
             "pattern": {
              "fillmode": "overlay",
              "size": 10,
              "solidity": 0.2
             }
            },
            "type": "histogram"
           }
          ],
          "histogram2d": [
           {
            "colorbar": {
             "outlinewidth": 0,
             "ticks": ""
            },
            "colorscale": [
             [
              0,
              "#0d0887"
             ],
             [
              0.1111111111111111,
              "#46039f"
             ],
             [
              0.2222222222222222,
              "#7201a8"
             ],
             [
              0.3333333333333333,
              "#9c179e"
             ],
             [
              0.4444444444444444,
              "#bd3786"
             ],
             [
              0.5555555555555556,
              "#d8576b"
             ],
             [
              0.6666666666666666,
              "#ed7953"
             ],
             [
              0.7777777777777778,
              "#fb9f3a"
             ],
             [
              0.8888888888888888,
              "#fdca26"
             ],
             [
              1,
              "#f0f921"
             ]
            ],
            "type": "histogram2d"
           }
          ],
          "histogram2dcontour": [
           {
            "colorbar": {
             "outlinewidth": 0,
             "ticks": ""
            },
            "colorscale": [
             [
              0,
              "#0d0887"
             ],
             [
              0.1111111111111111,
              "#46039f"
             ],
             [
              0.2222222222222222,
              "#7201a8"
             ],
             [
              0.3333333333333333,
              "#9c179e"
             ],
             [
              0.4444444444444444,
              "#bd3786"
             ],
             [
              0.5555555555555556,
              "#d8576b"
             ],
             [
              0.6666666666666666,
              "#ed7953"
             ],
             [
              0.7777777777777778,
              "#fb9f3a"
             ],
             [
              0.8888888888888888,
              "#fdca26"
             ],
             [
              1,
              "#f0f921"
             ]
            ],
            "type": "histogram2dcontour"
           }
          ],
          "mesh3d": [
           {
            "colorbar": {
             "outlinewidth": 0,
             "ticks": ""
            },
            "type": "mesh3d"
           }
          ],
          "parcoords": [
           {
            "line": {
             "colorbar": {
              "outlinewidth": 0,
              "ticks": ""
             }
            },
            "type": "parcoords"
           }
          ],
          "pie": [
           {
            "automargin": true,
            "type": "pie"
           }
          ],
          "scatter": [
           {
            "fillpattern": {
             "fillmode": "overlay",
             "size": 10,
             "solidity": 0.2
            },
            "type": "scatter"
           }
          ],
          "scatter3d": [
           {
            "line": {
             "colorbar": {
              "outlinewidth": 0,
              "ticks": ""
             }
            },
            "marker": {
             "colorbar": {
              "outlinewidth": 0,
              "ticks": ""
             }
            },
            "type": "scatter3d"
           }
          ],
          "scattercarpet": [
           {
            "marker": {
             "colorbar": {
              "outlinewidth": 0,
              "ticks": ""
             }
            },
            "type": "scattercarpet"
           }
          ],
          "scattergeo": [
           {
            "marker": {
             "colorbar": {
              "outlinewidth": 0,
              "ticks": ""
             }
            },
            "type": "scattergeo"
           }
          ],
          "scattergl": [
           {
            "marker": {
             "colorbar": {
              "outlinewidth": 0,
              "ticks": ""
             }
            },
            "type": "scattergl"
           }
          ],
          "scattermapbox": [
           {
            "marker": {
             "colorbar": {
              "outlinewidth": 0,
              "ticks": ""
             }
            },
            "type": "scattermapbox"
           }
          ],
          "scatterpolar": [
           {
            "marker": {
             "colorbar": {
              "outlinewidth": 0,
              "ticks": ""
             }
            },
            "type": "scatterpolar"
           }
          ],
          "scatterpolargl": [
           {
            "marker": {
             "colorbar": {
              "outlinewidth": 0,
              "ticks": ""
             }
            },
            "type": "scatterpolargl"
           }
          ],
          "scatterternary": [
           {
            "marker": {
             "colorbar": {
              "outlinewidth": 0,
              "ticks": ""
             }
            },
            "type": "scatterternary"
           }
          ],
          "surface": [
           {
            "colorbar": {
             "outlinewidth": 0,
             "ticks": ""
            },
            "colorscale": [
             [
              0,
              "#0d0887"
             ],
             [
              0.1111111111111111,
              "#46039f"
             ],
             [
              0.2222222222222222,
              "#7201a8"
             ],
             [
              0.3333333333333333,
              "#9c179e"
             ],
             [
              0.4444444444444444,
              "#bd3786"
             ],
             [
              0.5555555555555556,
              "#d8576b"
             ],
             [
              0.6666666666666666,
              "#ed7953"
             ],
             [
              0.7777777777777778,
              "#fb9f3a"
             ],
             [
              0.8888888888888888,
              "#fdca26"
             ],
             [
              1,
              "#f0f921"
             ]
            ],
            "type": "surface"
           }
          ],
          "table": [
           {
            "cells": {
             "fill": {
              "color": "#EBF0F8"
             },
             "line": {
              "color": "white"
             }
            },
            "header": {
             "fill": {
              "color": "#C8D4E3"
             },
             "line": {
              "color": "white"
             }
            },
            "type": "table"
           }
          ]
         },
         "layout": {
          "annotationdefaults": {
           "arrowcolor": "#2a3f5f",
           "arrowhead": 0,
           "arrowwidth": 1
          },
          "autotypenumbers": "strict",
          "coloraxis": {
           "colorbar": {
            "outlinewidth": 0,
            "ticks": ""
           }
          },
          "colorscale": {
           "diverging": [
            [
             0,
             "#8e0152"
            ],
            [
             0.1,
             "#c51b7d"
            ],
            [
             0.2,
             "#de77ae"
            ],
            [
             0.3,
             "#f1b6da"
            ],
            [
             0.4,
             "#fde0ef"
            ],
            [
             0.5,
             "#f7f7f7"
            ],
            [
             0.6,
             "#e6f5d0"
            ],
            [
             0.7,
             "#b8e186"
            ],
            [
             0.8,
             "#7fbc41"
            ],
            [
             0.9,
             "#4d9221"
            ],
            [
             1,
             "#276419"
            ]
           ],
           "sequential": [
            [
             0,
             "#0d0887"
            ],
            [
             0.1111111111111111,
             "#46039f"
            ],
            [
             0.2222222222222222,
             "#7201a8"
            ],
            [
             0.3333333333333333,
             "#9c179e"
            ],
            [
             0.4444444444444444,
             "#bd3786"
            ],
            [
             0.5555555555555556,
             "#d8576b"
            ],
            [
             0.6666666666666666,
             "#ed7953"
            ],
            [
             0.7777777777777778,
             "#fb9f3a"
            ],
            [
             0.8888888888888888,
             "#fdca26"
            ],
            [
             1,
             "#f0f921"
            ]
           ],
           "sequentialminus": [
            [
             0,
             "#0d0887"
            ],
            [
             0.1111111111111111,
             "#46039f"
            ],
            [
             0.2222222222222222,
             "#7201a8"
            ],
            [
             0.3333333333333333,
             "#9c179e"
            ],
            [
             0.4444444444444444,
             "#bd3786"
            ],
            [
             0.5555555555555556,
             "#d8576b"
            ],
            [
             0.6666666666666666,
             "#ed7953"
            ],
            [
             0.7777777777777778,
             "#fb9f3a"
            ],
            [
             0.8888888888888888,
             "#fdca26"
            ],
            [
             1,
             "#f0f921"
            ]
           ]
          },
          "colorway": [
           "#636efa",
           "#EF553B",
           "#00cc96",
           "#ab63fa",
           "#FFA15A",
           "#19d3f3",
           "#FF6692",
           "#B6E880",
           "#FF97FF",
           "#FECB52"
          ],
          "font": {
           "color": "#2a3f5f"
          },
          "geo": {
           "bgcolor": "white",
           "lakecolor": "white",
           "landcolor": "#E5ECF6",
           "showlakes": true,
           "showland": true,
           "subunitcolor": "white"
          },
          "hoverlabel": {
           "align": "left"
          },
          "hovermode": "closest",
          "mapbox": {
           "style": "light"
          },
          "paper_bgcolor": "white",
          "plot_bgcolor": "#E5ECF6",
          "polar": {
           "angularaxis": {
            "gridcolor": "white",
            "linecolor": "white",
            "ticks": ""
           },
           "bgcolor": "#E5ECF6",
           "radialaxis": {
            "gridcolor": "white",
            "linecolor": "white",
            "ticks": ""
           }
          },
          "scene": {
           "xaxis": {
            "backgroundcolor": "#E5ECF6",
            "gridcolor": "white",
            "gridwidth": 2,
            "linecolor": "white",
            "showbackground": true,
            "ticks": "",
            "zerolinecolor": "white"
           },
           "yaxis": {
            "backgroundcolor": "#E5ECF6",
            "gridcolor": "white",
            "gridwidth": 2,
            "linecolor": "white",
            "showbackground": true,
            "ticks": "",
            "zerolinecolor": "white"
           },
           "zaxis": {
            "backgroundcolor": "#E5ECF6",
            "gridcolor": "white",
            "gridwidth": 2,
            "linecolor": "white",
            "showbackground": true,
            "ticks": "",
            "zerolinecolor": "white"
           }
          },
          "shapedefaults": {
           "line": {
            "color": "#2a3f5f"
           }
          },
          "ternary": {
           "aaxis": {
            "gridcolor": "white",
            "linecolor": "white",
            "ticks": ""
           },
           "baxis": {
            "gridcolor": "white",
            "linecolor": "white",
            "ticks": ""
           },
           "bgcolor": "#E5ECF6",
           "caxis": {
            "gridcolor": "white",
            "linecolor": "white",
            "ticks": ""
           }
          },
          "title": {
           "x": 0.05
          },
          "xaxis": {
           "automargin": true,
           "gridcolor": "white",
           "linecolor": "white",
           "ticks": "",
           "title": {
            "standoff": 15
           },
           "zerolinecolor": "white",
           "zerolinewidth": 2
          },
          "yaxis": {
           "automargin": true,
           "gridcolor": "white",
           "linecolor": "white",
           "ticks": "",
           "title": {
            "standoff": 15
           },
           "zerolinecolor": "white",
           "zerolinewidth": 2
          }
         }
        },
        "xaxis": {
         "anchor": "y",
         "constrain": "domain",
         "domain": [
          0,
          1
         ],
         "scaleanchor": "y"
        },
        "yaxis": {
         "anchor": "x",
         "autorange": "reversed",
         "constrain": "domain",
         "domain": [
          0,
          1
         ]
        }
       }
      }
     },
     "metadata": {},
     "output_type": "display_data"
    }
   ],
   "source": [
    "cm = pd.DataFrame(confusion_matrix(y_test, pred_tree))\n",
    "# Rename columns to predicted values - 0 = No Risk, 1 = Risk\n",
    "cm.rename({0: 'No - True', 1: 'Yes - True'}, axis=1, inplace=True)\n",
    "# Rename rows to real values - 0 = No Risk, 1 = Risk\n",
    "cm.rename({0: 'No - Pred', 1: 'Yes - Pred'}, axis=0, inplace=True)\n",
    "px.imshow(cm, text_auto=True, color_continuous_scale='RdBu', color_continuous_midpoint=0)"
   ]
  },
  {
   "cell_type": "code",
   "execution_count": 13,
   "metadata": {},
   "outputs": [
    {
     "data": {
      "text/plain": [
       "{'Unnamed: 0': 0.03092122846398604,\n",
       " 'age': 0.038370590858409416,\n",
       " 'cholesterol': 0.034850913332456455,\n",
       " 'heart_rate': 0.038731535845582254,\n",
       " 'diabetes': 0.0011749692144734502,\n",
       " 'family_history': 0.001678527449247786,\n",
       " 'smoking': 0.006070546073498451,\n",
       " 'obesity': 0.004297615377681912,\n",
       " 'alcohol_consumption': 0.0030353371373897466,\n",
       " 'exercise_hours_per_week': 0.03856181012282725,\n",
       " 'previous_heart_problems': 0.00322277270255575,\n",
       " 'medication_use': 0.0,\n",
       " 'stress_level': 0.009354855791900525,\n",
       " 'sedentary_hours_per_day': 0.04940655554487886,\n",
       " 'bmi': 0.052211189884456805,\n",
       " 'triglycerides': 0.027577416231183288,\n",
       " 'physical_activity_days_per_week': 0.01847525149979347,\n",
       " 'sleep_hours_per_day': 0.6284750092920618,\n",
       " 'sex_Male': 0.0,\n",
       " 'continent_Asia': 0.0005595091497492623,\n",
       " 'continent_Australia': 0.0,\n",
       " 'continent_Europe': 0.002765734650640463,\n",
       " 'continent_North America': 0.0,\n",
       " 'continent_South America': 0.005486537158182294,\n",
       " 'hemisphere_Southern Hemisphere': 0.0007833128096489668,\n",
       " 'diet_Healthy': 0.0013925561060426077,\n",
       " 'diet_Unhealthy': 0.002596225303353054,\n",
       " 'blood_pressure_class_B': 0.0,\n",
       " 'blood_pressure_class_C': 0.0,\n",
       " 'blood_pressure_class_D': 0.0}"
      ]
     },
     "execution_count": 13,
     "metadata": {},
     "output_type": "execute_result"
    }
   ],
   "source": [
    "#check what are the most relevant features\n",
    "\n",
    "tree_importance = {feature : importance for feature, importance in zip(X_train_norm.columns, tree.feature_importances_)}\n",
    "tree_importance     "
   ]
  },
  {
   "cell_type": "code",
   "execution_count": 14,
   "metadata": {},
   "outputs": [
    {
     "name": "stdout",
     "output_type": "stream",
     "text": [
      "|--- sleep_hours_per_day <= 1.00\n",
      "|   |--- sleep_hours_per_day <= 0.83\n",
      "|   |   |--- sleep_hours_per_day <= 0.83\n",
      "|   |   |   |--- sleep_hours_per_day <= 0.67\n",
      "|   |   |   |   |--- sleep_hours_per_day <= 0.00\n",
      "|   |   |   |   |   |--- bmi <= 0.47\n",
      "|   |   |   |   |   |   |--- cholesterol <= 0.15\n",
      "|   |   |   |   |   |   |   |--- bmi <= 0.24\n",
      "|   |   |   |   |   |   |   |   |--- heart_rate <= 0.99\n",
      "|   |   |   |   |   |   |   |   |   |--- sedentary_hours_per_day <= 0.60\n",
      "|   |   |   |   |   |   |   |   |   |   |--- class: 1\n",
      "|   |   |   |   |   |   |   |   |   |--- sedentary_hours_per_day >  0.60\n",
      "|   |   |   |   |   |   |   |   |   |   |--- class: 1\n",
      "|   |   |   |   |   |   |   |   |--- heart_rate >  0.99\n",
      "|   |   |   |   |   |   |   |   |   |--- class: 0\n",
      "|   |   |   |   |   |   |   |--- bmi >  0.24\n",
      "|   |   |   |   |   |   |   |   |--- physical_activity_days_per_week <= 0.25\n",
      "|   |   |   |   |   |   |   |   |   |--- age <= 0.11\n",
      "|   |   |   |   |   |   |   |   |   |   |--- class: 0\n",
      "|   |   |   |   |   |   |   |   |   |--- age >  0.11\n",
      "|   |   |   |   |   |   |   |   |   |   |--- class: 1\n",
      "|   |   |   |   |   |   |   |   |--- physical_activity_days_per_week >  0.25\n",
      "|   |   |   |   |   |   |   |   |   |--- Unnamed: 0 <= 0.97\n",
      "|   |   |   |   |   |   |   |   |   |   |--- class: 0\n",
      "|   |   |   |   |   |   |   |   |   |--- Unnamed: 0 >  0.97\n",
      "|   |   |   |   |   |   |   |   |   |   |--- class: 1\n",
      "|   |   |   |   |   |   |--- cholesterol >  0.15\n",
      "|   |   |   |   |   |   |   |--- sedentary_hours_per_day <= 0.96\n",
      "|   |   |   |   |   |   |   |   |--- sedentary_hours_per_day <= 0.86\n",
      "|   |   |   |   |   |   |   |   |   |--- stress_level <= 0.88\n",
      "|   |   |   |   |   |   |   |   |   |   |--- class: 0\n",
      "|   |   |   |   |   |   |   |   |   |--- stress_level >  0.88\n",
      "|   |   |   |   |   |   |   |   |   |   |--- class: 0\n",
      "|   |   |   |   |   |   |   |   |--- sedentary_hours_per_day >  0.86\n",
      "|   |   |   |   |   |   |   |   |   |--- physical_activity_days_per_week <= 0.93\n",
      "|   |   |   |   |   |   |   |   |   |   |--- class: 0\n",
      "|   |   |   |   |   |   |   |   |   |--- physical_activity_days_per_week >  0.93\n",
      "|   |   |   |   |   |   |   |   |   |   |--- class: 1\n",
      "|   |   |   |   |   |   |   |--- sedentary_hours_per_day >  0.96\n",
      "|   |   |   |   |   |   |   |   |--- sedentary_hours_per_day <= 1.00\n",
      "|   |   |   |   |   |   |   |   |   |--- physical_activity_days_per_week <= 0.71\n",
      "|   |   |   |   |   |   |   |   |   |   |--- class: 1\n",
      "|   |   |   |   |   |   |   |   |   |--- physical_activity_days_per_week >  0.71\n",
      "|   |   |   |   |   |   |   |   |   |   |--- class: 0\n",
      "|   |   |   |   |   |   |   |   |--- sedentary_hours_per_day >  1.00\n",
      "|   |   |   |   |   |   |   |   |   |--- class: 0\n",
      "|   |   |   |   |   |--- bmi >  0.47\n",
      "|   |   |   |   |   |   |--- bmi <= 0.49\n",
      "|   |   |   |   |   |   |   |--- exercise_hours_per_week <= 0.07\n",
      "|   |   |   |   |   |   |   |   |--- alcohol_consumption <= 0.50\n",
      "|   |   |   |   |   |   |   |   |   |--- class: 0\n",
      "|   |   |   |   |   |   |   |   |--- alcohol_consumption >  0.50\n",
      "|   |   |   |   |   |   |   |   |   |--- class: 1\n",
      "|   |   |   |   |   |   |   |--- exercise_hours_per_week >  0.07\n",
      "|   |   |   |   |   |   |   |   |--- class: 0\n",
      "|   |   |   |   |   |   |--- bmi >  0.49\n",
      "|   |   |   |   |   |   |   |--- heart_rate <= 0.43\n",
      "|   |   |   |   |   |   |   |   |--- triglycerides <= 0.25\n",
      "|   |   |   |   |   |   |   |   |   |--- sedentary_hours_per_day <= 0.45\n",
      "|   |   |   |   |   |   |   |   |   |   |--- class: 1\n",
      "|   |   |   |   |   |   |   |   |   |--- sedentary_hours_per_day >  0.45\n",
      "|   |   |   |   |   |   |   |   |   |   |--- class: 0\n",
      "|   |   |   |   |   |   |   |   |--- triglycerides >  0.25\n",
      "|   |   |   |   |   |   |   |   |   |--- sedentary_hours_per_day <= 0.79\n",
      "|   |   |   |   |   |   |   |   |   |   |--- class: 0\n",
      "|   |   |   |   |   |   |   |   |   |--- sedentary_hours_per_day >  0.79\n",
      "|   |   |   |   |   |   |   |   |   |   |--- class: 0\n",
      "|   |   |   |   |   |   |   |--- heart_rate >  0.43\n",
      "|   |   |   |   |   |   |   |   |--- exercise_hours_per_week <= 0.55\n",
      "|   |   |   |   |   |   |   |   |   |--- heart_rate <= 0.69\n",
      "|   |   |   |   |   |   |   |   |   |   |--- class: 0\n",
      "|   |   |   |   |   |   |   |   |   |--- heart_rate >  0.69\n",
      "|   |   |   |   |   |   |   |   |   |   |--- class: 0\n",
      "|   |   |   |   |   |   |   |   |--- exercise_hours_per_week >  0.55\n",
      "|   |   |   |   |   |   |   |   |   |--- sedentary_hours_per_day <= 0.09\n",
      "|   |   |   |   |   |   |   |   |   |   |--- class: 0\n",
      "|   |   |   |   |   |   |   |   |   |--- sedentary_hours_per_day >  0.09\n",
      "|   |   |   |   |   |   |   |   |   |   |--- class: 1\n",
      "|   |   |   |   |--- sleep_hours_per_day >  0.00\n",
      "|   |   |   |   |   |--- sleep_hours_per_day <= 0.17\n",
      "|   |   |   |   |   |   |--- class: 1\n",
      "|   |   |   |   |   |--- sleep_hours_per_day >  0.17\n",
      "|   |   |   |   |   |   |--- sleep_hours_per_day <= 0.17\n",
      "|   |   |   |   |   |   |   |--- continent_Europe <= 0.87\n",
      "|   |   |   |   |   |   |   |   |--- cholesterol <= 0.73\n",
      "|   |   |   |   |   |   |   |   |   |--- Unnamed: 0 <= 0.19\n",
      "|   |   |   |   |   |   |   |   |   |   |--- class: 0\n",
      "|   |   |   |   |   |   |   |   |   |--- Unnamed: 0 >  0.19\n",
      "|   |   |   |   |   |   |   |   |   |   |--- class: 0\n",
      "|   |   |   |   |   |   |   |   |--- cholesterol >  0.73\n",
      "|   |   |   |   |   |   |   |   |   |--- triglycerides <= 0.79\n",
      "|   |   |   |   |   |   |   |   |   |   |--- class: 0\n",
      "|   |   |   |   |   |   |   |   |   |--- triglycerides >  0.79\n",
      "|   |   |   |   |   |   |   |   |   |   |--- class: 1\n",
      "|   |   |   |   |   |   |   |--- continent_Europe >  0.87\n",
      "|   |   |   |   |   |   |   |   |--- age <= 0.62\n",
      "|   |   |   |   |   |   |   |   |   |--- heart_rate <= 0.25\n",
      "|   |   |   |   |   |   |   |   |   |   |--- class: 0\n",
      "|   |   |   |   |   |   |   |   |   |--- heart_rate >  0.25\n",
      "|   |   |   |   |   |   |   |   |   |   |--- class: 0\n",
      "|   |   |   |   |   |   |   |   |--- age >  0.62\n",
      "|   |   |   |   |   |   |   |   |   |--- age <= 0.77\n",
      "|   |   |   |   |   |   |   |   |   |   |--- class: 1\n",
      "|   |   |   |   |   |   |   |   |   |--- age >  0.77\n",
      "|   |   |   |   |   |   |   |   |   |   |--- class: 0\n",
      "|   |   |   |   |   |   |--- sleep_hours_per_day >  0.17\n",
      "|   |   |   |   |   |   |   |--- sleep_hours_per_day <= 0.33\n",
      "|   |   |   |   |   |   |   |   |--- class: 1\n",
      "|   |   |   |   |   |   |   |--- sleep_hours_per_day >  0.33\n",
      "|   |   |   |   |   |   |   |   |--- sleep_hours_per_day <= 0.33\n",
      "|   |   |   |   |   |   |   |   |   |--- sedentary_hours_per_day <= 0.86\n",
      "|   |   |   |   |   |   |   |   |   |   |--- class: 0\n",
      "|   |   |   |   |   |   |   |   |   |--- sedentary_hours_per_day >  0.86\n",
      "|   |   |   |   |   |   |   |   |   |   |--- class: 0\n",
      "|   |   |   |   |   |   |   |   |--- sleep_hours_per_day >  0.33\n",
      "|   |   |   |   |   |   |   |   |   |--- sleep_hours_per_day <= 0.50\n",
      "|   |   |   |   |   |   |   |   |   |   |--- class: 1\n",
      "|   |   |   |   |   |   |   |   |   |--- sleep_hours_per_day >  0.50\n",
      "|   |   |   |   |   |   |   |   |   |   |--- class: 0\n",
      "|   |   |   |--- sleep_hours_per_day >  0.67\n",
      "|   |   |   |   |--- class: 1\n",
      "|   |   |--- sleep_hours_per_day >  0.83\n",
      "|   |   |   |--- cholesterol <= 0.56\n",
      "|   |   |   |   |--- bmi <= 0.79\n",
      "|   |   |   |   |   |--- exercise_hours_per_week <= 0.94\n",
      "|   |   |   |   |   |   |--- exercise_hours_per_week <= 0.91\n",
      "|   |   |   |   |   |   |   |--- bmi <= 0.78\n",
      "|   |   |   |   |   |   |   |   |--- age <= 0.10\n",
      "|   |   |   |   |   |   |   |   |   |--- cholesterol <= 0.09\n",
      "|   |   |   |   |   |   |   |   |   |   |--- class: 1\n",
      "|   |   |   |   |   |   |   |   |   |--- cholesterol >  0.09\n",
      "|   |   |   |   |   |   |   |   |   |   |--- class: 0\n",
      "|   |   |   |   |   |   |   |   |--- age >  0.10\n",
      "|   |   |   |   |   |   |   |   |   |--- smoking <= 0.70\n",
      "|   |   |   |   |   |   |   |   |   |   |--- class: 1\n",
      "|   |   |   |   |   |   |   |   |   |--- smoking >  0.70\n",
      "|   |   |   |   |   |   |   |   |   |   |--- class: 0\n",
      "|   |   |   |   |   |   |   |--- bmi >  0.78\n",
      "|   |   |   |   |   |   |   |   |--- physical_activity_days_per_week <= 0.13\n",
      "|   |   |   |   |   |   |   |   |   |--- class: 0\n",
      "|   |   |   |   |   |   |   |   |--- physical_activity_days_per_week >  0.13\n",
      "|   |   |   |   |   |   |   |   |   |--- class: 1\n",
      "|   |   |   |   |   |   |--- exercise_hours_per_week >  0.91\n",
      "|   |   |   |   |   |   |   |--- class: 0\n",
      "|   |   |   |   |   |--- exercise_hours_per_week >  0.94\n",
      "|   |   |   |   |   |   |--- heart_rate <= 0.21\n",
      "|   |   |   |   |   |   |   |--- class: 1\n",
      "|   |   |   |   |   |   |--- heart_rate >  0.21\n",
      "|   |   |   |   |   |   |   |--- sedentary_hours_per_day <= 0.33\n",
      "|   |   |   |   |   |   |   |   |--- class: 1\n",
      "|   |   |   |   |   |   |   |--- sedentary_hours_per_day >  0.33\n",
      "|   |   |   |   |   |   |   |   |--- triglycerides <= 0.93\n",
      "|   |   |   |   |   |   |   |   |   |--- stress_level <= 0.50\n",
      "|   |   |   |   |   |   |   |   |   |   |--- class: 0\n",
      "|   |   |   |   |   |   |   |   |   |--- stress_level >  0.50\n",
      "|   |   |   |   |   |   |   |   |   |   |--- class: 1\n",
      "|   |   |   |   |   |   |   |   |--- triglycerides >  0.93\n",
      "|   |   |   |   |   |   |   |   |   |--- class: 1\n",
      "|   |   |   |   |--- bmi >  0.79\n",
      "|   |   |   |   |   |--- bmi <= 0.96\n",
      "|   |   |   |   |   |   |--- triglycerides <= 0.99\n",
      "|   |   |   |   |   |   |   |--- exercise_hours_per_week <= 0.12\n",
      "|   |   |   |   |   |   |   |   |--- obesity <= 0.50\n",
      "|   |   |   |   |   |   |   |   |   |--- continent_South America <= 0.65\n",
      "|   |   |   |   |   |   |   |   |   |   |--- class: 1\n",
      "|   |   |   |   |   |   |   |   |   |--- continent_South America >  0.65\n",
      "|   |   |   |   |   |   |   |   |   |   |--- class: 0\n",
      "|   |   |   |   |   |   |   |   |--- obesity >  0.50\n",
      "|   |   |   |   |   |   |   |   |   |--- class: 0\n",
      "|   |   |   |   |   |   |   |--- exercise_hours_per_week >  0.12\n",
      "|   |   |   |   |   |   |   |   |--- exercise_hours_per_week <= 0.46\n",
      "|   |   |   |   |   |   |   |   |   |--- heart_rate <= 0.01\n",
      "|   |   |   |   |   |   |   |   |   |   |--- class: 0\n",
      "|   |   |   |   |   |   |   |   |   |--- heart_rate >  0.01\n",
      "|   |   |   |   |   |   |   |   |   |   |--- class: 0\n",
      "|   |   |   |   |   |   |   |   |--- exercise_hours_per_week >  0.46\n",
      "|   |   |   |   |   |   |   |   |   |--- sedentary_hours_per_day <= 0.96\n",
      "|   |   |   |   |   |   |   |   |   |   |--- class: 0\n",
      "|   |   |   |   |   |   |   |   |   |--- sedentary_hours_per_day >  0.96\n",
      "|   |   |   |   |   |   |   |   |   |   |--- class: 1\n",
      "|   |   |   |   |   |   |--- triglycerides >  0.99\n",
      "|   |   |   |   |   |   |   |--- class: 1\n",
      "|   |   |   |   |   |--- bmi >  0.96\n",
      "|   |   |   |   |   |   |--- bmi <= 0.99\n",
      "|   |   |   |   |   |   |   |--- Unnamed: 0 <= 0.48\n",
      "|   |   |   |   |   |   |   |   |--- exercise_hours_per_week <= 0.19\n",
      "|   |   |   |   |   |   |   |   |   |--- class: 1\n",
      "|   |   |   |   |   |   |   |   |--- exercise_hours_per_week >  0.19\n",
      "|   |   |   |   |   |   |   |   |   |--- age <= 0.60\n",
      "|   |   |   |   |   |   |   |   |   |   |--- class: 0\n",
      "|   |   |   |   |   |   |   |   |   |--- age >  0.60\n",
      "|   |   |   |   |   |   |   |   |   |   |--- class: 1\n",
      "|   |   |   |   |   |   |   |--- Unnamed: 0 >  0.48\n",
      "|   |   |   |   |   |   |   |   |--- class: 1\n",
      "|   |   |   |   |   |   |--- bmi >  0.99\n",
      "|   |   |   |   |   |   |   |--- diet_Healthy <= 0.50\n",
      "|   |   |   |   |   |   |   |   |--- class: 0\n",
      "|   |   |   |   |   |   |   |--- diet_Healthy >  0.50\n",
      "|   |   |   |   |   |   |   |   |--- class: 1\n",
      "|   |   |   |--- cholesterol >  0.56\n",
      "|   |   |   |   |--- cholesterol <= 0.57\n",
      "|   |   |   |   |   |--- continent_Europe <= 0.50\n",
      "|   |   |   |   |   |   |--- class: 1\n",
      "|   |   |   |   |   |--- continent_Europe >  0.50\n",
      "|   |   |   |   |   |   |--- diabetes <= 0.50\n",
      "|   |   |   |   |   |   |   |--- class: 0\n",
      "|   |   |   |   |   |   |--- diabetes >  0.50\n",
      "|   |   |   |   |   |   |   |--- class: 1\n",
      "|   |   |   |   |--- cholesterol >  0.57\n",
      "|   |   |   |   |   |--- exercise_hours_per_week <= 0.03\n",
      "|   |   |   |   |   |   |--- sedentary_hours_per_day <= 0.17\n",
      "|   |   |   |   |   |   |   |--- class: 0\n",
      "|   |   |   |   |   |   |--- sedentary_hours_per_day >  0.17\n",
      "|   |   |   |   |   |   |   |--- sedentary_hours_per_day <= 0.93\n",
      "|   |   |   |   |   |   |   |   |--- class: 1\n",
      "|   |   |   |   |   |   |   |--- sedentary_hours_per_day >  0.93\n",
      "|   |   |   |   |   |   |   |   |--- class: 0\n",
      "|   |   |   |   |   |--- exercise_hours_per_week >  0.03\n",
      "|   |   |   |   |   |   |--- Unnamed: 0 <= 0.88\n",
      "|   |   |   |   |   |   |   |--- sedentary_hours_per_day <= 0.55\n",
      "|   |   |   |   |   |   |   |   |--- diet_Unhealthy <= 0.50\n",
      "|   |   |   |   |   |   |   |   |   |--- heart_rate <= 0.12\n",
      "|   |   |   |   |   |   |   |   |   |   |--- class: 1\n",
      "|   |   |   |   |   |   |   |   |   |--- heart_rate >  0.12\n",
      "|   |   |   |   |   |   |   |   |   |   |--- class: 0\n",
      "|   |   |   |   |   |   |   |   |--- diet_Unhealthy >  0.50\n",
      "|   |   |   |   |   |   |   |   |   |--- smoking <= 0.50\n",
      "|   |   |   |   |   |   |   |   |   |   |--- class: 1\n",
      "|   |   |   |   |   |   |   |   |   |--- smoking >  0.50\n",
      "|   |   |   |   |   |   |   |   |   |   |--- class: 0\n",
      "|   |   |   |   |   |   |   |--- sedentary_hours_per_day >  0.55\n",
      "|   |   |   |   |   |   |   |   |--- age <= 0.92\n",
      "|   |   |   |   |   |   |   |   |   |--- age <= 0.78\n",
      "|   |   |   |   |   |   |   |   |   |   |--- class: 1\n",
      "|   |   |   |   |   |   |   |   |   |--- age >  0.78\n",
      "|   |   |   |   |   |   |   |   |   |   |--- class: 0\n",
      "|   |   |   |   |   |   |   |   |--- age >  0.92\n",
      "|   |   |   |   |   |   |   |   |   |--- heart_rate <= 0.96\n",
      "|   |   |   |   |   |   |   |   |   |   |--- class: 1\n",
      "|   |   |   |   |   |   |   |   |   |--- heart_rate >  0.96\n",
      "|   |   |   |   |   |   |   |   |   |   |--- class: 0\n",
      "|   |   |   |   |   |   |--- Unnamed: 0 >  0.88\n",
      "|   |   |   |   |   |   |   |--- bmi <= 0.03\n",
      "|   |   |   |   |   |   |   |   |--- class: 1\n",
      "|   |   |   |   |   |   |   |--- bmi >  0.03\n",
      "|   |   |   |   |   |   |   |   |--- continent_South America <= 0.50\n",
      "|   |   |   |   |   |   |   |   |   |--- bmi <= 0.06\n",
      "|   |   |   |   |   |   |   |   |   |   |--- class: 1\n",
      "|   |   |   |   |   |   |   |   |   |--- bmi >  0.06\n",
      "|   |   |   |   |   |   |   |   |   |   |--- class: 0\n",
      "|   |   |   |   |   |   |   |   |--- continent_South America >  0.50\n",
      "|   |   |   |   |   |   |   |   |   |--- bmi <= 0.68\n",
      "|   |   |   |   |   |   |   |   |   |   |--- class: 0\n",
      "|   |   |   |   |   |   |   |   |   |--- bmi >  0.68\n",
      "|   |   |   |   |   |   |   |   |   |   |--- class: 1\n",
      "|   |--- sleep_hours_per_day >  0.83\n",
      "|   |   |--- class: 1\n",
      "|--- sleep_hours_per_day >  1.00\n",
      "|   |--- exercise_hours_per_week <= 0.19\n",
      "|   |   |--- Unnamed: 0 <= 0.46\n",
      "|   |   |   |--- heart_rate <= 0.92\n",
      "|   |   |   |   |--- exercise_hours_per_week <= 0.00\n",
      "|   |   |   |   |   |--- class: 1\n",
      "|   |   |   |   |--- exercise_hours_per_week >  0.00\n",
      "|   |   |   |   |   |--- Unnamed: 0 <= 0.00\n",
      "|   |   |   |   |   |   |--- class: 1\n",
      "|   |   |   |   |   |--- Unnamed: 0 >  0.00\n",
      "|   |   |   |   |   |   |--- continent_South America <= 0.10\n",
      "|   |   |   |   |   |   |   |--- heart_rate <= 0.01\n",
      "|   |   |   |   |   |   |   |   |--- class: 1\n",
      "|   |   |   |   |   |   |   |--- heart_rate >  0.01\n",
      "|   |   |   |   |   |   |   |   |--- cholesterol <= 0.14\n",
      "|   |   |   |   |   |   |   |   |   |--- cholesterol <= 0.13\n",
      "|   |   |   |   |   |   |   |   |   |   |--- class: 0\n",
      "|   |   |   |   |   |   |   |   |   |--- cholesterol >  0.13\n",
      "|   |   |   |   |   |   |   |   |   |   |--- class: 1\n",
      "|   |   |   |   |   |   |   |   |--- cholesterol >  0.14\n",
      "|   |   |   |   |   |   |   |   |   |--- Unnamed: 0 <= 0.06\n",
      "|   |   |   |   |   |   |   |   |   |   |--- class: 0\n",
      "|   |   |   |   |   |   |   |   |   |--- Unnamed: 0 >  0.06\n",
      "|   |   |   |   |   |   |   |   |   |   |--- class: 0\n",
      "|   |   |   |   |   |   |--- continent_South America >  0.10\n",
      "|   |   |   |   |   |   |   |--- alcohol_consumption <= 0.50\n",
      "|   |   |   |   |   |   |   |   |--- class: 0\n",
      "|   |   |   |   |   |   |   |--- alcohol_consumption >  0.50\n",
      "|   |   |   |   |   |   |   |   |--- family_history <= 0.50\n",
      "|   |   |   |   |   |   |   |   |   |--- heart_rate <= 0.52\n",
      "|   |   |   |   |   |   |   |   |   |   |--- class: 1\n",
      "|   |   |   |   |   |   |   |   |   |--- heart_rate >  0.52\n",
      "|   |   |   |   |   |   |   |   |   |   |--- class: 0\n",
      "|   |   |   |   |   |   |   |   |--- family_history >  0.50\n",
      "|   |   |   |   |   |   |   |   |   |--- class: 0\n",
      "|   |   |   |--- heart_rate >  0.92\n",
      "|   |   |   |   |--- heart_rate <= 0.98\n",
      "|   |   |   |   |   |--- class: 1\n",
      "|   |   |   |   |--- heart_rate >  0.98\n",
      "|   |   |   |   |   |--- class: 0\n",
      "|   |   |--- Unnamed: 0 >  0.46\n",
      "|   |   |   |--- triglycerides <= 0.67\n",
      "|   |   |   |   |--- Unnamed: 0 <= 0.85\n",
      "|   |   |   |   |   |--- heart_rate <= 0.31\n",
      "|   |   |   |   |   |   |--- Unnamed: 0 <= 0.60\n",
      "|   |   |   |   |   |   |   |--- cholesterol <= 0.85\n",
      "|   |   |   |   |   |   |   |   |--- class: 1\n",
      "|   |   |   |   |   |   |   |--- cholesterol >  0.85\n",
      "|   |   |   |   |   |   |   |   |--- class: 0\n",
      "|   |   |   |   |   |   |--- Unnamed: 0 >  0.60\n",
      "|   |   |   |   |   |   |   |--- class: 0\n",
      "|   |   |   |   |   |--- heart_rate >  0.31\n",
      "|   |   |   |   |   |   |--- heart_rate <= 0.82\n",
      "|   |   |   |   |   |   |   |--- triglycerides <= 0.53\n",
      "|   |   |   |   |   |   |   |   |--- bmi <= 0.04\n",
      "|   |   |   |   |   |   |   |   |   |--- class: 0\n",
      "|   |   |   |   |   |   |   |   |--- bmi >  0.04\n",
      "|   |   |   |   |   |   |   |   |   |--- bmi <= 0.96\n",
      "|   |   |   |   |   |   |   |   |   |   |--- class: 1\n",
      "|   |   |   |   |   |   |   |   |   |--- bmi >  0.96\n",
      "|   |   |   |   |   |   |   |   |   |   |--- class: 0\n",
      "|   |   |   |   |   |   |   |--- triglycerides >  0.53\n",
      "|   |   |   |   |   |   |   |   |--- bmi <= 0.55\n",
      "|   |   |   |   |   |   |   |   |   |--- class: 0\n",
      "|   |   |   |   |   |   |   |   |--- bmi >  0.55\n",
      "|   |   |   |   |   |   |   |   |   |--- class: 1\n",
      "|   |   |   |   |   |   |--- heart_rate >  0.82\n",
      "|   |   |   |   |   |   |   |--- Unnamed: 0 <= 0.76\n",
      "|   |   |   |   |   |   |   |   |--- continent_Asia <= 0.50\n",
      "|   |   |   |   |   |   |   |   |   |--- class: 0\n",
      "|   |   |   |   |   |   |   |   |--- continent_Asia >  0.50\n",
      "|   |   |   |   |   |   |   |   |   |--- triglycerides <= 0.27\n",
      "|   |   |   |   |   |   |   |   |   |   |--- class: 0\n",
      "|   |   |   |   |   |   |   |   |   |--- triglycerides >  0.27\n",
      "|   |   |   |   |   |   |   |   |   |   |--- class: 1\n",
      "|   |   |   |   |   |   |   |--- Unnamed: 0 >  0.76\n",
      "|   |   |   |   |   |   |   |   |--- class: 1\n",
      "|   |   |   |   |--- Unnamed: 0 >  0.85\n",
      "|   |   |   |   |   |--- bmi <= 0.68\n",
      "|   |   |   |   |   |   |--- exercise_hours_per_week <= 0.02\n",
      "|   |   |   |   |   |   |   |--- hemisphere_Southern Hemisphere <= 0.50\n",
      "|   |   |   |   |   |   |   |   |--- class: 0\n",
      "|   |   |   |   |   |   |   |--- hemisphere_Southern Hemisphere >  0.50\n",
      "|   |   |   |   |   |   |   |   |--- class: 1\n",
      "|   |   |   |   |   |   |--- exercise_hours_per_week >  0.02\n",
      "|   |   |   |   |   |   |   |--- class: 0\n",
      "|   |   |   |   |   |--- bmi >  0.68\n",
      "|   |   |   |   |   |   |--- physical_activity_days_per_week <= 0.50\n",
      "|   |   |   |   |   |   |   |--- class: 0\n",
      "|   |   |   |   |   |   |--- physical_activity_days_per_week >  0.50\n",
      "|   |   |   |   |   |   |   |--- class: 1\n",
      "|   |   |   |--- triglycerides >  0.67\n",
      "|   |   |   |   |--- physical_activity_days_per_week <= 0.21\n",
      "|   |   |   |   |   |--- age <= 0.65\n",
      "|   |   |   |   |   |   |--- class: 0\n",
      "|   |   |   |   |   |--- age >  0.65\n",
      "|   |   |   |   |   |   |--- class: 1\n",
      "|   |   |   |   |--- physical_activity_days_per_week >  0.21\n",
      "|   |   |   |   |   |--- class: 0\n",
      "|   |--- exercise_hours_per_week >  0.19\n",
      "|   |   |--- cholesterol <= 0.98\n",
      "|   |   |   |--- heart_rate <= 0.05\n",
      "|   |   |   |   |--- bmi <= 0.88\n",
      "|   |   |   |   |   |--- physical_activity_days_per_week <= 0.93\n",
      "|   |   |   |   |   |   |--- triglycerides <= 0.96\n",
      "|   |   |   |   |   |   |   |--- exercise_hours_per_week <= 0.98\n",
      "|   |   |   |   |   |   |   |   |--- sedentary_hours_per_day <= 0.94\n",
      "|   |   |   |   |   |   |   |   |   |--- class: 0\n",
      "|   |   |   |   |   |   |   |   |--- sedentary_hours_per_day >  0.94\n",
      "|   |   |   |   |   |   |   |   |   |--- heart_rate <= 0.01\n",
      "|   |   |   |   |   |   |   |   |   |   |--- class: 1\n",
      "|   |   |   |   |   |   |   |   |   |--- heart_rate >  0.01\n",
      "|   |   |   |   |   |   |   |   |   |   |--- class: 0\n",
      "|   |   |   |   |   |   |   |--- exercise_hours_per_week >  0.98\n",
      "|   |   |   |   |   |   |   |   |--- alcohol_consumption <= 0.50\n",
      "|   |   |   |   |   |   |   |   |   |--- class: 0\n",
      "|   |   |   |   |   |   |   |   |--- alcohol_consumption >  0.50\n",
      "|   |   |   |   |   |   |   |   |   |--- class: 1\n",
      "|   |   |   |   |   |   |--- triglycerides >  0.96\n",
      "|   |   |   |   |   |   |   |--- class: 1\n",
      "|   |   |   |   |   |--- physical_activity_days_per_week >  0.93\n",
      "|   |   |   |   |   |   |--- class: 1\n",
      "|   |   |   |   |--- bmi >  0.88\n",
      "|   |   |   |   |   |--- class: 1\n",
      "|   |   |   |--- heart_rate >  0.05\n",
      "|   |   |   |   |--- cholesterol <= 0.27\n",
      "|   |   |   |   |   |--- bmi <= 0.66\n",
      "|   |   |   |   |   |   |--- heart_rate <= 0.39\n",
      "|   |   |   |   |   |   |   |--- sedentary_hours_per_day <= 0.45\n",
      "|   |   |   |   |   |   |   |   |--- heart_rate <= 0.36\n",
      "|   |   |   |   |   |   |   |   |   |--- triglycerides <= 0.45\n",
      "|   |   |   |   |   |   |   |   |   |   |--- class: 0\n",
      "|   |   |   |   |   |   |   |   |   |--- triglycerides >  0.45\n",
      "|   |   |   |   |   |   |   |   |   |   |--- class: 0\n",
      "|   |   |   |   |   |   |   |   |--- heart_rate >  0.36\n",
      "|   |   |   |   |   |   |   |   |   |--- class: 1\n",
      "|   |   |   |   |   |   |   |--- sedentary_hours_per_day >  0.45\n",
      "|   |   |   |   |   |   |   |   |--- physical_activity_days_per_week <= 0.56\n",
      "|   |   |   |   |   |   |   |   |   |--- exercise_hours_per_week <= 0.50\n",
      "|   |   |   |   |   |   |   |   |   |   |--- class: 0\n",
      "|   |   |   |   |   |   |   |   |   |--- exercise_hours_per_week >  0.50\n",
      "|   |   |   |   |   |   |   |   |   |   |--- class: 1\n",
      "|   |   |   |   |   |   |   |   |--- physical_activity_days_per_week >  0.56\n",
      "|   |   |   |   |   |   |   |   |   |--- age <= 0.66\n",
      "|   |   |   |   |   |   |   |   |   |   |--- class: 0\n",
      "|   |   |   |   |   |   |   |   |   |--- age >  0.66\n",
      "|   |   |   |   |   |   |   |   |   |   |--- class: 1\n",
      "|   |   |   |   |   |   |--- heart_rate >  0.39\n",
      "|   |   |   |   |   |   |   |--- triglycerides <= 0.40\n",
      "|   |   |   |   |   |   |   |   |--- exercise_hours_per_week <= 0.23\n",
      "|   |   |   |   |   |   |   |   |   |--- class: 1\n",
      "|   |   |   |   |   |   |   |   |--- exercise_hours_per_week >  0.23\n",
      "|   |   |   |   |   |   |   |   |   |--- bmi <= 0.58\n",
      "|   |   |   |   |   |   |   |   |   |   |--- class: 0\n",
      "|   |   |   |   |   |   |   |   |   |--- bmi >  0.58\n",
      "|   |   |   |   |   |   |   |   |   |   |--- class: 0\n",
      "|   |   |   |   |   |   |   |--- triglycerides >  0.40\n",
      "|   |   |   |   |   |   |   |   |--- age <= 0.51\n",
      "|   |   |   |   |   |   |   |   |   |--- age <= 0.22\n",
      "|   |   |   |   |   |   |   |   |   |   |--- class: 0\n",
      "|   |   |   |   |   |   |   |   |   |--- age >  0.22\n",
      "|   |   |   |   |   |   |   |   |   |   |--- class: 1\n",
      "|   |   |   |   |   |   |   |   |--- age >  0.51\n",
      "|   |   |   |   |   |   |   |   |   |--- age <= 0.94\n",
      "|   |   |   |   |   |   |   |   |   |   |--- class: 0\n",
      "|   |   |   |   |   |   |   |   |   |--- age >  0.94\n",
      "|   |   |   |   |   |   |   |   |   |   |--- class: 1\n",
      "|   |   |   |   |   |--- bmi >  0.66\n",
      "|   |   |   |   |   |   |--- sedentary_hours_per_day <= 0.93\n",
      "|   |   |   |   |   |   |   |--- Unnamed: 0 <= 0.94\n",
      "|   |   |   |   |   |   |   |   |--- cholesterol <= 0.00\n",
      "|   |   |   |   |   |   |   |   |   |--- class: 1\n",
      "|   |   |   |   |   |   |   |   |--- cholesterol >  0.00\n",
      "|   |   |   |   |   |   |   |   |   |--- age <= 0.99\n",
      "|   |   |   |   |   |   |   |   |   |   |--- class: 0\n",
      "|   |   |   |   |   |   |   |   |   |--- age >  0.99\n",
      "|   |   |   |   |   |   |   |   |   |   |--- class: 1\n",
      "|   |   |   |   |   |   |   |--- Unnamed: 0 >  0.94\n",
      "|   |   |   |   |   |   |   |   |--- Unnamed: 0 <= 0.96\n",
      "|   |   |   |   |   |   |   |   |   |--- class: 1\n",
      "|   |   |   |   |   |   |   |   |--- Unnamed: 0 >  0.96\n",
      "|   |   |   |   |   |   |   |   |   |--- class: 0\n",
      "|   |   |   |   |   |   |--- sedentary_hours_per_day >  0.93\n",
      "|   |   |   |   |   |   |   |--- class: 1\n",
      "|   |   |   |   |--- cholesterol >  0.27\n",
      "|   |   |   |   |   |--- sedentary_hours_per_day <= 0.72\n",
      "|   |   |   |   |   |   |--- exercise_hours_per_week <= 0.51\n",
      "|   |   |   |   |   |   |   |--- age <= 0.16\n",
      "|   |   |   |   |   |   |   |   |--- triglycerides <= 0.80\n",
      "|   |   |   |   |   |   |   |   |   |--- Unnamed: 0 <= 0.79\n",
      "|   |   |   |   |   |   |   |   |   |   |--- class: 1\n",
      "|   |   |   |   |   |   |   |   |   |--- Unnamed: 0 >  0.79\n",
      "|   |   |   |   |   |   |   |   |   |   |--- class: 0\n",
      "|   |   |   |   |   |   |   |   |--- triglycerides >  0.80\n",
      "|   |   |   |   |   |   |   |   |   |--- bmi <= 0.40\n",
      "|   |   |   |   |   |   |   |   |   |   |--- class: 0\n",
      "|   |   |   |   |   |   |   |   |   |--- bmi >  0.40\n",
      "|   |   |   |   |   |   |   |   |   |   |--- class: 1\n",
      "|   |   |   |   |   |   |   |--- age >  0.16\n",
      "|   |   |   |   |   |   |   |   |--- stress_level <= 0.35\n",
      "|   |   |   |   |   |   |   |   |   |--- Unnamed: 0 <= 0.41\n",
      "|   |   |   |   |   |   |   |   |   |   |--- class: 0\n",
      "|   |   |   |   |   |   |   |   |   |--- Unnamed: 0 >  0.41\n",
      "|   |   |   |   |   |   |   |   |   |   |--- class: 0\n",
      "|   |   |   |   |   |   |   |   |--- stress_level >  0.35\n",
      "|   |   |   |   |   |   |   |   |   |--- sedentary_hours_per_day <= 0.09\n",
      "|   |   |   |   |   |   |   |   |   |   |--- class: 1\n",
      "|   |   |   |   |   |   |   |   |   |--- sedentary_hours_per_day >  0.09\n",
      "|   |   |   |   |   |   |   |   |   |   |--- class: 1\n",
      "|   |   |   |   |   |   |--- exercise_hours_per_week >  0.51\n",
      "|   |   |   |   |   |   |   |--- triglycerides <= 0.52\n",
      "|   |   |   |   |   |   |   |   |--- cholesterol <= 0.29\n",
      "|   |   |   |   |   |   |   |   |   |--- class: 1\n",
      "|   |   |   |   |   |   |   |   |--- cholesterol >  0.29\n",
      "|   |   |   |   |   |   |   |   |   |--- physical_activity_days_per_week <= 0.32\n",
      "|   |   |   |   |   |   |   |   |   |   |--- class: 0\n",
      "|   |   |   |   |   |   |   |   |   |--- physical_activity_days_per_week >  0.32\n",
      "|   |   |   |   |   |   |   |   |   |   |--- class: 1\n",
      "|   |   |   |   |   |   |   |--- triglycerides >  0.52\n",
      "|   |   |   |   |   |   |   |   |--- exercise_hours_per_week <= 0.94\n",
      "|   |   |   |   |   |   |   |   |   |--- bmi <= 0.14\n",
      "|   |   |   |   |   |   |   |   |   |   |--- class: 0\n",
      "|   |   |   |   |   |   |   |   |   |--- bmi >  0.14\n",
      "|   |   |   |   |   |   |   |   |   |   |--- class: 0\n",
      "|   |   |   |   |   |   |   |   |--- exercise_hours_per_week >  0.94\n",
      "|   |   |   |   |   |   |   |   |   |--- class: 0\n",
      "|   |   |   |   |   |--- sedentary_hours_per_day >  0.72\n",
      "|   |   |   |   |   |   |--- exercise_hours_per_week <= 0.61\n",
      "|   |   |   |   |   |   |   |--- age <= 0.93\n",
      "|   |   |   |   |   |   |   |   |--- bmi <= 0.64\n",
      "|   |   |   |   |   |   |   |   |   |--- age <= 0.15\n",
      "|   |   |   |   |   |   |   |   |   |   |--- class: 0\n",
      "|   |   |   |   |   |   |   |   |   |--- age >  0.15\n",
      "|   |   |   |   |   |   |   |   |   |   |--- class: 0\n",
      "|   |   |   |   |   |   |   |   |--- bmi >  0.64\n",
      "|   |   |   |   |   |   |   |   |   |--- bmi <= 0.77\n",
      "|   |   |   |   |   |   |   |   |   |   |--- class: 1\n",
      "|   |   |   |   |   |   |   |   |   |--- bmi >  0.77\n",
      "|   |   |   |   |   |   |   |   |   |   |--- class: 0\n",
      "|   |   |   |   |   |   |   |--- age >  0.93\n",
      "|   |   |   |   |   |   |   |   |--- cholesterol <= 0.35\n",
      "|   |   |   |   |   |   |   |   |   |--- class: 0\n",
      "|   |   |   |   |   |   |   |   |--- cholesterol >  0.35\n",
      "|   |   |   |   |   |   |   |   |   |--- class: 1\n",
      "|   |   |   |   |   |   |--- exercise_hours_per_week >  0.61\n",
      "|   |   |   |   |   |   |   |--- exercise_hours_per_week <= 0.93\n",
      "|   |   |   |   |   |   |   |   |--- previous_heart_problems <= 0.50\n",
      "|   |   |   |   |   |   |   |   |   |--- age <= 0.15\n",
      "|   |   |   |   |   |   |   |   |   |   |--- class: 0\n",
      "|   |   |   |   |   |   |   |   |   |--- age >  0.15\n",
      "|   |   |   |   |   |   |   |   |   |   |--- class: 1\n",
      "|   |   |   |   |   |   |   |   |--- previous_heart_problems >  0.50\n",
      "|   |   |   |   |   |   |   |   |   |--- obesity <= 0.50\n",
      "|   |   |   |   |   |   |   |   |   |   |--- class: 0\n",
      "|   |   |   |   |   |   |   |   |   |--- obesity >  0.50\n",
      "|   |   |   |   |   |   |   |   |   |   |--- class: 1\n",
      "|   |   |   |   |   |   |   |--- exercise_hours_per_week >  0.93\n",
      "|   |   |   |   |   |   |   |   |--- triglycerides <= 0.08\n",
      "|   |   |   |   |   |   |   |   |   |--- class: 1\n",
      "|   |   |   |   |   |   |   |   |--- triglycerides >  0.08\n",
      "|   |   |   |   |   |   |   |   |   |--- class: 0\n",
      "|   |   |--- cholesterol >  0.98\n",
      "|   |   |   |--- age <= 0.94\n",
      "|   |   |   |   |--- class: 0\n",
      "|   |   |   |--- age >  0.94\n",
      "|   |   |   |   |--- triglycerides <= 0.44\n",
      "|   |   |   |   |   |--- class: 1\n",
      "|   |   |   |   |--- triglycerides >  0.44\n",
      "|   |   |   |   |   |--- class: 0\n",
      "\n"
     ]
    }
   ],
   "source": [
    "from sklearn.tree import export_text\n",
    "\n",
    "tree_viz = export_text(tree, feature_names=list(X_train_norm.columns))\n",
    "print(tree_viz)\n"
   ]
  }
 ],
 "metadata": {
  "kernelspec": {
   "display_name": "Python 3",
   "language": "python",
   "name": "python3"
  },
  "language_info": {
   "codemirror_mode": {
    "name": "ipython",
    "version": 3
   },
   "file_extension": ".py",
   "mimetype": "text/x-python",
   "name": "python",
   "nbconvert_exporter": "python",
   "pygments_lexer": "ipython3",
   "version": "3.12.0"
  }
 },
 "nbformat": 4,
 "nbformat_minor": 2
}
